{
 "cells": [
  {
   "cell_type": "code",
   "execution_count": 2,
   "metadata": {},
   "outputs": [],
   "source": [
    "import pandas as pd\n",
    "import matplotlib.pyplot as plt\n"
   ]
  },
  {
   "cell_type": "code",
   "execution_count": 102,
   "metadata": {},
   "outputs": [
    {
     "data": {
      "text/html": "<div>\n<style scoped>\n    .dataframe tbody tr th:only-of-type {\n        vertical-align: middle;\n    }\n\n    .dataframe tbody tr th {\n        vertical-align: top;\n    }\n\n    .dataframe thead th {\n        text-align: right;\n    }\n</style>\n<table border=\"1\" class=\"dataframe\">\n  <thead>\n    <tr style=\"text-align: right;\">\n      <th></th>\n      <th>connections</th>\n      <th>threads</th>\n      <th>tasks</th>\n    </tr>\n  </thead>\n  <tbody>\n    <tr>\n      <th>0</th>\n      <td>1</td>\n      <td>0.272433</td>\n      <td>0.256862</td>\n    </tr>\n    <tr>\n      <th>1</th>\n      <td>2</td>\n      <td>0.278809</td>\n      <td>0.296702</td>\n    </tr>\n    <tr>\n      <th>2</th>\n      <td>4</td>\n      <td>0.318172</td>\n      <td>0.249757</td>\n    </tr>\n    <tr>\n      <th>3</th>\n      <td>8</td>\n      <td>0.284088</td>\n      <td>0.302110</td>\n    </tr>\n    <tr>\n      <th>4</th>\n      <td>16</td>\n      <td>0.289168</td>\n      <td>0.321127</td>\n    </tr>\n    <tr>\n      <th>5</th>\n      <td>64</td>\n      <td>0.368126</td>\n      <td>0.361252</td>\n    </tr>\n    <tr>\n      <th>6</th>\n      <td>256</td>\n      <td>0.418285</td>\n      <td>0.436416</td>\n    </tr>\n    <tr>\n      <th>7</th>\n      <td>512</td>\n      <td>0.445974</td>\n      <td>0.456075</td>\n    </tr>\n    <tr>\n      <th>8</th>\n      <td>1024</td>\n      <td>0.463324</td>\n      <td>0.478014</td>\n    </tr>\n    <tr>\n      <th>9</th>\n      <td>2048</td>\n      <td>0.472223</td>\n      <td>0.490113</td>\n    </tr>\n    <tr>\n      <th>10</th>\n      <td>4096</td>\n      <td>0.457028</td>\n      <td>0.482320</td>\n    </tr>\n    <tr>\n      <th>11</th>\n      <td>8192</td>\n      <td>0.456052</td>\n      <td>0.468386</td>\n    </tr>\n    <tr>\n      <th>12</th>\n      <td>16384</td>\n      <td>0.425099</td>\n      <td>0.480633</td>\n    </tr>\n    <tr>\n      <th>13</th>\n      <td>24576</td>\n      <td>0.467487</td>\n      <td>0.480071</td>\n    </tr>\n  </tbody>\n</table>\n</div>",
      "text/plain": "    connections   threads     tasks\n0             1  0.272433  0.256862\n1             2  0.278809  0.296702\n2             4  0.318172  0.249757\n3             8  0.284088  0.302110\n4            16  0.289168  0.321127\n5            64  0.368126  0.361252\n6           256  0.418285  0.436416\n7           512  0.445974  0.456075\n8          1024  0.463324  0.478014\n9          2048  0.472223  0.490113\n10         4096  0.457028  0.482320\n11         8192  0.456052  0.468386\n12        16384  0.425099  0.480633\n13        24576  0.467487  0.480071"
     },
     "execution_count": 102,
     "metadata": {},
     "output_type": "execute_result"
    }
   ],
   "source": [
    "benchmarks = pd.read_csv(\"benchmarks.csv\")\n",
    "benchmarks[\"ipc\"] =  benchmarks[\"instructions\"] / benchmarks[\"cycles\"] \n",
    "\n",
    "\n",
    "msg_filtered = benchmarks[benchmarks[\"msg_size\"] == \"8\"]\n",
    "\n",
    "\n",
    "\n",
    "ipc_conn = msg_filtered.filter(items=[\"kind\",\"ipc\",\"connections\"])\n",
    "\n",
    "connections = msg_filtered[msg_filtered[\"kind\"] == \"threads\"].reset_index(drop=True).filter(items=[\"connections\"])\n",
    "connections[\"threads\"] = ipc_conn[ipc_conn[\"kind\"] == \"threads\"].reset_index(drop=True).filter(items=[\"ipc\"])\n",
    "connections[\"tasks\"] = ipc_conn[ipc_conn[\"kind\"] == \"tasks\"].reset_index(drop=True).filter(items=[\"ipc\"])\n",
    "\n",
    "connections\n",
    "\n",
    "\n",
    "\n",
    "\n",
    "\n"
   ]
  }
 ],
 "metadata": {
  "kernelspec": {
   "display_name": "Python 3.7.3 64-bit",
   "metadata": {
    "interpreter": {
     "hash": "31f2aee4e71d21fbe5cf8b01ff0e069b9275f58929596ceb00d14d90e3e16cd6"
    }
   },
   "name": "python3"
  },
  "language_info": {
   "codemirror_mode": {
    "name": "ipython",
    "version": 3
   },
   "file_extension": ".py",
   "mimetype": "text/x-python",
   "name": "python",
   "nbconvert_exporter": "python",
   "pygments_lexer": "ipython3",
   "version": "3.7.3"
  },
  "orig_nbformat": 2
 },
 "nbformat": 4,
 "nbformat_minor": 2
}