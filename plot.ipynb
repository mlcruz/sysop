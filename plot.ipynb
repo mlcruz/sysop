{
 "cells": [
  {
   "cell_type": "code",
   "execution_count": 2,
   "metadata": {},
   "outputs": [],
   "source": [
    "import pandas as pd\n",
    "import matplotlib.pyplot as plt\n"
   ]
  },
  {
   "cell_type": "code",
   "execution_count": 18,
   "metadata": {},
   "outputs": [
    {
     "data": {
      "text/plain": "0      289159512065\n1      216254119937\n2      289159512068\n3      216262508548\n4      289159512080\n           ...     \n106    289226620928\n107    285032316928\n108    289309036048\n109    318971153936\n110    289427947520\nName: virtual_memory, Length: 111, dtype: int64"
     },
     "execution_count": 18,
     "metadata": {},
     "output_type": "execute_result"
    }
   ],
   "source": [
    "benchmarks = pd.read_csv(\"benchmarks.csv\")\n",
    "benchmarks[\"ipc\"] =  benchmarks[\"instructions\"] / benchmarks[\"cycles\"] \n",
    "\n",
    "b_threads = benchmarks[benchmarks[\"kind\"] == \"threads\"]\n",
    "b_tasks = benchmarks[benchmarks[\"kind\"] == \"tasks\"]\n",
    "\n",
    "benchmarks[\"virtual_memory\"] = benchmarks[\"msg_size\"]\n",
    "\n",
    "stack_size = 8 * 1024 * 1024\n",
    "tmp = []\n",
    "for (idx,msg_size) in enumerate(benchmarks[\"connections\"]):\n",
    "    is_thread = benchmarks[\"kind\"][idx] == \"threads\"\n",
    "    num_msg_size = 0\n",
    "\n",
    "    if(msg_size == \"512kb\"):\n",
    "        num_msg_size = 512 * 1024\n",
    "    else:\n",
    "        num_msg_size = int(msg_size)\n",
    "\n",
    "    if(is_thread):\n",
    "        tmp.append((msg_size * benchmarks[\"connections\"][idx]) + (benchmarks[\"connections\"][idx] * stack_size) + (206228 * 1024))\n",
    "    else:\n",
    "        tmp.append(msg_size * benchmarks[\"connections\"][idx]  + (275764 * 1024))\n",
    "\n",
    "benchmarks[\"virtual_memory\"] = tmp\n",
    "# msg_filtered =benchmarks[benchmarks[\"msg_size\"] == \"512kb\"]\n",
    "\n",
    "\n",
    "# connections = msg_filtered[msg_filtered[\"kind\"] == \"threads\"].reset_index(drop=True).filter(items=[\"connections\"])\n",
    "\n",
    "# filter_items = [\"context_switches\"]\n",
    "\n",
    "# connections[\"threads\"] = msg_filtered[msg_filtered[\"kind\"] == \"threads\"].reset_index(drop=True).filter(items=filter_items)\n",
    "# connections[\"tasks\"] = msg_filtered[msg_filtered[\"kind\"] == \"tasks\"].reset_index(drop=True).filter(items=filter_items)\n",
    "\n",
    "# # connections.plot(x=\"connections\").autoscale()\n",
    "benchmarks[\"virtual_memory\"]\n",
    "\n",
    "\n",
    "\n",
    "\n"
   ]
  }
 ],
 "metadata": {
  "kernelspec": {
   "display_name": "Python 3.7.3 64-bit",
   "metadata": {
    "interpreter": {
     "hash": "31f2aee4e71d21fbe5cf8b01ff0e069b9275f58929596ceb00d14d90e3e16cd6"
    }
   },
   "name": "python3"
  },
  "language_info": {
   "codemirror_mode": {
    "name": "ipython",
    "version": 3
   },
   "file_extension": ".py",
   "mimetype": "text/x-python",
   "name": "python",
   "nbconvert_exporter": "python",
   "pygments_lexer": "ipython3",
   "version": "3.7.3"
  },
  "orig_nbformat": 2
 },
 "nbformat": 4,
 "nbformat_minor": 2
}