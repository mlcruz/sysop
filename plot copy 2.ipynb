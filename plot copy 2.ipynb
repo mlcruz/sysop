{
 "cells": [
  {
   "cell_type": "code",
   "execution_count": 2,
   "metadata": {},
   "outputs": [],
   "source": [
    "import pandas as pd\n",
    "import matplotlib.pyplot as plt\n"
   ]
  },
  {
   "cell_type": "code",
   "execution_count": 3,
   "metadata": {},
   "outputs": [],
   "source": [
    "benchmarks = pd.read_csv(\"benchmarks.csv\")\n",
    "benchmarks[\"ipc\"] =  benchmarks[\"instructions\"] / benchmarks[\"cycles\"] \n",
    "\n",
    "b_threads = benchmarks[benchmarks[\"kind\"] == \"threads\"]\n",
    "b_tasks = benchmarks[benchmarks[\"kind\"] == \"tasks\"]\n",
    "\n",
    "benchmarks[\"virtual_memory\"] = benchmarks[\"msg_size\"]\n",
    "\n",
    "stack_size = 2 * 1024 * 1024\n",
    "tmp_vm = []\n",
    "tmp_rm = []\n",
    "\n",
    "for (idx,msg_size) in enumerate(benchmarks[\"msg_size\"]):\n",
    "    is_thread = benchmarks[\"kind\"][idx] == \"threads\"\n",
    "    num_msg_size = 0\n",
    "    if(msg_size == \"512kb\"):\n",
    "        num_msg_size = 512 * 1024\n",
    "    else:\n",
    "        num_msg_size = int(msg_size)\n",
    "\n",
    "    if(is_thread):\n",
    "        tmp_vm.append((num_msg_size * benchmarks[\"connections\"][idx]) + (benchmarks[\"connections\"][idx] * stack_size) + (206228 * 1024))\n",
    "        tmp_rm.append((1024 * 1024) + (num_msg_size * benchmarks[\"connections\"][idx]) + (benchmarks[\"connections\"][idx] * 4086))\n",
    "    else:\n",
    "        tmp_vm.append(num_msg_size * benchmarks[\"connections\"][idx]  + (275764 * 1024))\n",
    "        tmp_rm.append((1024 * 1632) + (num_msg_size * benchmarks[\"connections\"][idx]))\n",
    "\n",
    "benchmarks[\"virtual_memory\"] = tmp_vm\n",
    "benchmarks[\"reserved_memory\"] = tmp_rm\n"
   ]
  },
  {
   "cell_type": "code",
   "execution_count": 13,
   "metadata": {},
   "outputs": [
    {
     "data": {
      "text/plain": "Text(0.5, 1.0, 'msg_size: 1024')"
     },
     "execution_count": 13,
     "metadata": {},
     "output_type": "execute_result"
    },
    {
     "data": {
      "image/png": "[encoded data removed]",
      "text/plain": "<Figure size 432x288 with 4 Axes>"
     },
     "metadata": {
      "needs_background": "light"
     },
     "output_type": "display_data"
    }
   ],
   "source": [
    "#msg_filtered[msg_filtered[\"kind\"] == \"tasks\"].filter(items=[\"connections\",\"msg_size\", \"virtual_memory\", \"reserved_memory\"])\n",
    "\n",
    "\n",
    "filter_items = [\"context_switches\"]\n",
    "y_label = \"context switches\"\n",
    "fig, axes = plt.subplots(nrows=2, ncols=2)\n",
    "\n",
    "\n",
    "msg_size = \"8\"\n",
    "msg_filtered = benchmarks[benchmarks[\"msg_size\"] == msg_size]\n",
    "\n",
    "connections = msg_filtered[msg_filtered[\"kind\"] == \"threads\"].reset_index(drop=True).filter(items=[\"connections\"])\n",
    "connections[f\"threads\"] = msg_filtered[msg_filtered[\"kind\"] == \"threads\"].reset_index(drop=True).filter(items=filter_items)\n",
    "connections[f\"tasks\"] = msg_filtered[msg_filtered[\"kind\"] == \"tasks\"].reset_index(drop=True).filter(items=filter_items)\n",
    "\n",
    "plot = connections.plot(x=\"connections\",ax=axes[0,0])\n",
    "plot.set_title(f\"msg_size: {msg_size}\")\n",
    "plot.set_ylabel(y_label)\n",
    "\n",
    "msg_size = \"1024\"\n",
    "msg_filtered = benchmarks[benchmarks[\"msg_size\"] == msg_size]\n",
    "\n",
    "connections = msg_filtered[msg_filtered[\"kind\"] == \"threads\"].reset_index(drop=True).filter(items=[\"connections\"])\n",
    "connections[f\"threads\"] = msg_filtered[msg_filtered[\"kind\"] == \"threads\"].reset_index(drop=True).filter(items=filter_items)\n",
    "connections[f\"tasks\"] = msg_filtered[msg_filtered[\"kind\"] == \"tasks\"].reset_index(drop=True).filter(items=filter_items)\n",
    "\n",
    "plot = connections.plot(x=\"connections\", ax=axes[0,1])\n",
    "plot.set_ylabel(y_label)\n",
    "plot.set_title(f\"msg_size: {msg_size}\")\n",
    "\n",
    "msg_size = \"4096\"\n",
    "msg_filtered = benchmarks[benchmarks[\"msg_size\"] == msg_size]\n",
    "\n",
    "connections = msg_filtered[msg_filtered[\"kind\"] == \"threads\"].reset_index(drop=True).filter(items=[\"connections\"])\n",
    "connections[f\"threads\"] = msg_filtered[msg_filtered[\"kind\"] == \"threads\"].reset_index(drop=True).filter(items=filter_items)\n",
    "connections[f\"tasks\"] = msg_filtered[msg_filtered[\"kind\"] == \"tasks\"].reset_index(drop=True).filter(items=filter_items)\n",
    "\n",
    "plot = connections.plot(x=\"connections\", ax=axes[1,0])\n",
    "plot.set_ylabel(y_label)\n",
    "plot.set_title(f\"msg_size: {msg_size}\")\n",
    "\n",
    "msg_size = \"512kb\"\n",
    "msg_filtered = benchmarks[benchmarks[\"msg_size\"] == msg_size]\n",
    "\n",
    "connections = msg_filtered[msg_filtered[\"kind\"] == \"threads\"].reset_index(drop=True).filter(items=[\"connections\"])\n",
    "connections[f\"threads\"] = msg_filtered[msg_filtered[\"kind\"] == \"threads\"].reset_index(drop=True).filter(items=filter_items)\n",
    "connections[f\"tasks\"] = msg_filtered[msg_filtered[\"kind\"] == \"tasks\"].reset_index(drop=True).filter(items=filter_items)\n",
    "\n",
    "plot = connections.plot(x=\"connections\", ax=axes[1,0])\n",
    "plot.set_ylabel(y_label)\n",
    "plot.set_title(f\"msg_size: {msg_size}\")\n",
    "\n",
    "\n",
    "\n"
   ]
  }
 ],
 "metadata": {
  "kernelspec": {
   "display_name": "Python 3.7.3 64-bit",
   "metadata": {
    "interpreter": {
     "hash": "31f2aee4e71d21fbe5cf8b01ff0e069b9275f58929596ceb00d14d90e3e16cd6"
    }
   },
   "name": "python3"
  },
  "language_info": {
   "codemirror_mode": {
    "name": "ipython",
    "version": 3
   },
   "file_extension": ".py",
   "mimetype": "text/x-python",
   "name": "python",
   "nbconvert_exporter": "python",
   "pygments_lexer": "ipython3",
   "version": "3.7.3"
  },
  "orig_nbformat": 2
 },
 "nbformat": 4,
 "nbformat_minor": 2
}